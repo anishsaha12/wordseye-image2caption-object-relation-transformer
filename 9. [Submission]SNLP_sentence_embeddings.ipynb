{
  "nbformat": 4,
  "nbformat_minor": 0,
  "metadata": {
    "colab": {
      "name": "[Submission]SNLP_sentence_embeddings.ipynb",
      "provenance": []
    },
    "kernelspec": {
      "name": "python3",
      "display_name": "Python 3"
    },
    "language_info": {
      "name": "python"
    },
    "widgets": {
      "application/vnd.jupyter.widget-state+json": {
        "5e8f429847ea4837b3fb87dd8dc864a2": {
          "model_module": "@jupyter-widgets/controls",
          "model_name": "HBoxModel",
          "state": {
            "_view_name": "HBoxView",
            "_dom_classes": [],
            "_model_name": "HBoxModel",
            "_view_module": "@jupyter-widgets/controls",
            "_model_module_version": "1.5.0",
            "_view_count": null,
            "_view_module_version": "1.5.0",
            "box_style": "",
            "layout": "IPY_MODEL_4074c80696b3441aadeab0f702fbfaf1",
            "_model_module": "@jupyter-widgets/controls",
            "children": [
              "IPY_MODEL_9b9e4bed27b5434aba008326550e7d88",
              "IPY_MODEL_7f277b5aa79d4ec3a286db2e77d53ae8"
            ]
          }
        },
        "4074c80696b3441aadeab0f702fbfaf1": {
          "model_module": "@jupyter-widgets/base",
          "model_name": "LayoutModel",
          "state": {
            "_view_name": "LayoutView",
            "grid_template_rows": null,
            "right": null,
            "justify_content": null,
            "_view_module": "@jupyter-widgets/base",
            "overflow": null,
            "_model_module_version": "1.2.0",
            "_view_count": null,
            "flex_flow": null,
            "width": null,
            "min_width": null,
            "border": null,
            "align_items": null,
            "bottom": null,
            "_model_module": "@jupyter-widgets/base",
            "top": null,
            "grid_column": null,
            "overflow_y": null,
            "overflow_x": null,
            "grid_auto_flow": null,
            "grid_area": null,
            "grid_template_columns": null,
            "flex": null,
            "_model_name": "LayoutModel",
            "justify_items": null,
            "grid_row": null,
            "max_height": null,
            "align_content": null,
            "visibility": null,
            "align_self": null,
            "height": null,
            "min_height": null,
            "padding": null,
            "grid_auto_rows": null,
            "grid_gap": null,
            "max_width": null,
            "order": null,
            "_view_module_version": "1.2.0",
            "grid_template_areas": null,
            "object_position": null,
            "object_fit": null,
            "grid_auto_columns": null,
            "margin": null,
            "display": null,
            "left": null
          }
        },
        "9b9e4bed27b5434aba008326550e7d88": {
          "model_module": "@jupyter-widgets/controls",
          "model_name": "FloatProgressModel",
          "state": {
            "_view_name": "ProgressView",
            "style": "IPY_MODEL_410aaac9589b4f9c83e1c5a701dc2d56",
            "_dom_classes": [],
            "description": "100%",
            "_model_name": "FloatProgressModel",
            "bar_style": "success",
            "max": 405234788,
            "_view_module": "@jupyter-widgets/controls",
            "_model_module_version": "1.5.0",
            "value": 405234788,
            "_view_count": null,
            "_view_module_version": "1.5.0",
            "orientation": "horizontal",
            "min": 0,
            "description_tooltip": null,
            "_model_module": "@jupyter-widgets/controls",
            "layout": "IPY_MODEL_5eb3881259eb429cb29f459f38b6e985"
          }
        },
        "7f277b5aa79d4ec3a286db2e77d53ae8": {
          "model_module": "@jupyter-widgets/controls",
          "model_name": "HTMLModel",
          "state": {
            "_view_name": "HTMLView",
            "style": "IPY_MODEL_156f8d5015b34ae9814f19ded96113fe",
            "_dom_classes": [],
            "description": "",
            "_model_name": "HTMLModel",
            "placeholder": "​",
            "_view_module": "@jupyter-widgets/controls",
            "_model_module_version": "1.5.0",
            "value": " 405M/405M [00:31&lt;00:00, 12.9MB/s]",
            "_view_count": null,
            "_view_module_version": "1.5.0",
            "description_tooltip": null,
            "_model_module": "@jupyter-widgets/controls",
            "layout": "IPY_MODEL_38239b6e8c974a6db56f77b450e84b76"
          }
        },
        "410aaac9589b4f9c83e1c5a701dc2d56": {
          "model_module": "@jupyter-widgets/controls",
          "model_name": "ProgressStyleModel",
          "state": {
            "_view_name": "StyleView",
            "_model_name": "ProgressStyleModel",
            "description_width": "initial",
            "_view_module": "@jupyter-widgets/base",
            "_model_module_version": "1.5.0",
            "_view_count": null,
            "_view_module_version": "1.2.0",
            "bar_color": null,
            "_model_module": "@jupyter-widgets/controls"
          }
        },
        "5eb3881259eb429cb29f459f38b6e985": {
          "model_module": "@jupyter-widgets/base",
          "model_name": "LayoutModel",
          "state": {
            "_view_name": "LayoutView",
            "grid_template_rows": null,
            "right": null,
            "justify_content": null,
            "_view_module": "@jupyter-widgets/base",
            "overflow": null,
            "_model_module_version": "1.2.0",
            "_view_count": null,
            "flex_flow": null,
            "width": null,
            "min_width": null,
            "border": null,
            "align_items": null,
            "bottom": null,
            "_model_module": "@jupyter-widgets/base",
            "top": null,
            "grid_column": null,
            "overflow_y": null,
            "overflow_x": null,
            "grid_auto_flow": null,
            "grid_area": null,
            "grid_template_columns": null,
            "flex": null,
            "_model_name": "LayoutModel",
            "justify_items": null,
            "grid_row": null,
            "max_height": null,
            "align_content": null,
            "visibility": null,
            "align_self": null,
            "height": null,
            "min_height": null,
            "padding": null,
            "grid_auto_rows": null,
            "grid_gap": null,
            "max_width": null,
            "order": null,
            "_view_module_version": "1.2.0",
            "grid_template_areas": null,
            "object_position": null,
            "object_fit": null,
            "grid_auto_columns": null,
            "margin": null,
            "display": null,
            "left": null
          }
        },
        "156f8d5015b34ae9814f19ded96113fe": {
          "model_module": "@jupyter-widgets/controls",
          "model_name": "DescriptionStyleModel",
          "state": {
            "_view_name": "StyleView",
            "_model_name": "DescriptionStyleModel",
            "description_width": "",
            "_view_module": "@jupyter-widgets/base",
            "_model_module_version": "1.5.0",
            "_view_count": null,
            "_view_module_version": "1.2.0",
            "_model_module": "@jupyter-widgets/controls"
          }
        },
        "38239b6e8c974a6db56f77b450e84b76": {
          "model_module": "@jupyter-widgets/base",
          "model_name": "LayoutModel",
          "state": {
            "_view_name": "LayoutView",
            "grid_template_rows": null,
            "right": null,
            "justify_content": null,
            "_view_module": "@jupyter-widgets/base",
            "overflow": null,
            "_model_module_version": "1.2.0",
            "_view_count": null,
            "flex_flow": null,
            "width": null,
            "min_width": null,
            "border": null,
            "align_items": null,
            "bottom": null,
            "_model_module": "@jupyter-widgets/base",
            "top": null,
            "grid_column": null,
            "overflow_y": null,
            "overflow_x": null,
            "grid_auto_flow": null,
            "grid_area": null,
            "grid_template_columns": null,
            "flex": null,
            "_model_name": "LayoutModel",
            "justify_items": null,
            "grid_row": null,
            "max_height": null,
            "align_content": null,
            "visibility": null,
            "align_self": null,
            "height": null,
            "min_height": null,
            "padding": null,
            "grid_auto_rows": null,
            "grid_gap": null,
            "max_width": null,
            "order": null,
            "_view_module_version": "1.2.0",
            "grid_template_areas": null,
            "object_position": null,
            "object_fit": null,
            "grid_auto_columns": null,
            "margin": null,
            "display": null,
            "left": null
          }
        }
      }
    }
  },
  "cells": [
    {
      "cell_type": "code",
      "metadata": {
        "colab": {
          "base_uri": "https://localhost:8080/"
        },
        "id": "lFrO-gZ6zxtF",
        "outputId": "e0798d2b-317e-49a8-e2f5-d82a36e0bcb0"
      },
      "source": [
        "!pip install -U sentence-transformers"
      ],
      "execution_count": null,
      "outputs": [
        {
          "output_type": "stream",
          "text": [
            "Collecting sentence-transformers\n",
            "\u001b[?25l  Downloading https://files.pythonhosted.org/packages/6f/4d/9fb1028b0b4645c77401417151d06122d745c7a874fda6a4d5e6bb7bebc6/sentence-transformers-1.0.3.tar.gz (74kB)\n",
            "\u001b[K     |████████████████████████████████| 81kB 4.5MB/s \n",
            "\u001b[?25hCollecting transformers<5.0.0,>=3.1.0\n",
            "\u001b[?25l  Downloading https://files.pythonhosted.org/packages/ed/d5/f4157a376b8a79489a76ce6cfe147f4f3be1e029b7144fa7b8432e8acb26/transformers-4.4.2-py3-none-any.whl (2.0MB)\n",
            "\u001b[K     |████████████████████████████████| 2.0MB 10.8MB/s \n",
            "\u001b[?25hRequirement already satisfied, skipping upgrade: tqdm in /usr/local/lib/python3.7/dist-packages (from sentence-transformers) (4.41.1)\n",
            "Requirement already satisfied, skipping upgrade: torch>=1.6.0 in /usr/local/lib/python3.7/dist-packages (from sentence-transformers) (1.8.0+cu101)\n",
            "Requirement already satisfied, skipping upgrade: numpy in /usr/local/lib/python3.7/dist-packages (from sentence-transformers) (1.19.5)\n",
            "Requirement already satisfied, skipping upgrade: scikit-learn in /usr/local/lib/python3.7/dist-packages (from sentence-transformers) (0.22.2.post1)\n",
            "Requirement already satisfied, skipping upgrade: scipy in /usr/local/lib/python3.7/dist-packages (from sentence-transformers) (1.4.1)\n",
            "Requirement already satisfied, skipping upgrade: nltk in /usr/local/lib/python3.7/dist-packages (from sentence-transformers) (3.2.5)\n",
            "Collecting sentencepiece\n",
            "\u001b[?25l  Downloading https://files.pythonhosted.org/packages/f5/99/e0808cb947ba10f575839c43e8fafc9cc44e4a7a2c8f79c60db48220a577/sentencepiece-0.1.95-cp37-cp37m-manylinux2014_x86_64.whl (1.2MB)\n",
            "\u001b[K     |████████████████████████████████| 1.2MB 40.2MB/s \n",
            "\u001b[?25hRequirement already satisfied, skipping upgrade: importlib-metadata; python_version < \"3.8\" in /usr/local/lib/python3.7/dist-packages (from transformers<5.0.0,>=3.1.0->sentence-transformers) (3.7.2)\n",
            "Collecting sacremoses\n",
            "\u001b[?25l  Downloading https://files.pythonhosted.org/packages/7d/34/09d19aff26edcc8eb2a01bed8e98f13a1537005d31e95233fd48216eed10/sacremoses-0.0.43.tar.gz (883kB)\n",
            "\u001b[K     |████████████████████████████████| 890kB 40.9MB/s \n",
            "\u001b[?25hCollecting tokenizers<0.11,>=0.10.1\n",
            "\u001b[?25l  Downloading https://files.pythonhosted.org/packages/71/23/2ddc317b2121117bf34dd00f5b0de194158f2a44ee2bf5e47c7166878a97/tokenizers-0.10.1-cp37-cp37m-manylinux2010_x86_64.whl (3.2MB)\n",
            "\u001b[K     |████████████████████████████████| 3.2MB 39.4MB/s \n",
            "\u001b[?25hRequirement already satisfied, skipping upgrade: filelock in /usr/local/lib/python3.7/dist-packages (from transformers<5.0.0,>=3.1.0->sentence-transformers) (3.0.12)\n",
            "Requirement already satisfied, skipping upgrade: requests in /usr/local/lib/python3.7/dist-packages (from transformers<5.0.0,>=3.1.0->sentence-transformers) (2.23.0)\n",
            "Requirement already satisfied, skipping upgrade: regex!=2019.12.17 in /usr/local/lib/python3.7/dist-packages (from transformers<5.0.0,>=3.1.0->sentence-transformers) (2019.12.20)\n",
            "Requirement already satisfied, skipping upgrade: packaging in /usr/local/lib/python3.7/dist-packages (from transformers<5.0.0,>=3.1.0->sentence-transformers) (20.9)\n",
            "Requirement already satisfied, skipping upgrade: typing-extensions in /usr/local/lib/python3.7/dist-packages (from torch>=1.6.0->sentence-transformers) (3.7.4.3)\n",
            "Requirement already satisfied, skipping upgrade: joblib>=0.11 in /usr/local/lib/python3.7/dist-packages (from scikit-learn->sentence-transformers) (1.0.1)\n",
            "Requirement already satisfied, skipping upgrade: six in /usr/local/lib/python3.7/dist-packages (from nltk->sentence-transformers) (1.15.0)\n",
            "Requirement already satisfied, skipping upgrade: zipp>=0.5 in /usr/local/lib/python3.7/dist-packages (from importlib-metadata; python_version < \"3.8\"->transformers<5.0.0,>=3.1.0->sentence-transformers) (3.4.1)\n",
            "Requirement already satisfied, skipping upgrade: click in /usr/local/lib/python3.7/dist-packages (from sacremoses->transformers<5.0.0,>=3.1.0->sentence-transformers) (7.1.2)\n",
            "Requirement already satisfied, skipping upgrade: chardet<4,>=3.0.2 in /usr/local/lib/python3.7/dist-packages (from requests->transformers<5.0.0,>=3.1.0->sentence-transformers) (3.0.4)\n",
            "Requirement already satisfied, skipping upgrade: certifi>=2017.4.17 in /usr/local/lib/python3.7/dist-packages (from requests->transformers<5.0.0,>=3.1.0->sentence-transformers) (2020.12.5)\n",
            "Requirement already satisfied, skipping upgrade: idna<3,>=2.5 in /usr/local/lib/python3.7/dist-packages (from requests->transformers<5.0.0,>=3.1.0->sentence-transformers) (2.10)\n",
            "Requirement already satisfied, skipping upgrade: urllib3!=1.25.0,!=1.25.1,<1.26,>=1.21.1 in /usr/local/lib/python3.7/dist-packages (from requests->transformers<5.0.0,>=3.1.0->sentence-transformers) (1.24.3)\n",
            "Requirement already satisfied, skipping upgrade: pyparsing>=2.0.2 in /usr/local/lib/python3.7/dist-packages (from packaging->transformers<5.0.0,>=3.1.0->sentence-transformers) (2.4.7)\n",
            "Building wheels for collected packages: sentence-transformers, sacremoses\n",
            "  Building wheel for sentence-transformers (setup.py) ... \u001b[?25l\u001b[?25hdone\n",
            "  Created wheel for sentence-transformers: filename=sentence_transformers-1.0.3-cp37-none-any.whl size=114277 sha256=1b8618111cdcd71445171ec1c78453a91e4a19f0d68e7c90d83ecadee0654c0e\n",
            "  Stored in directory: /root/.cache/pip/wheels/c8/0d/fa/4e28cf045da4781344e7972befb2fdf306051b225bfc290187\n",
            "  Building wheel for sacremoses (setup.py) ... \u001b[?25l\u001b[?25hdone\n",
            "  Created wheel for sacremoses: filename=sacremoses-0.0.43-cp37-none-any.whl size=893262 sha256=5e167d1a1cfd2913caf8d1a4c40b4d6fda10b5d7be25cf52c3f8a925fd616704\n",
            "  Stored in directory: /root/.cache/pip/wheels/29/3c/fd/7ce5c3f0666dab31a50123635e6fb5e19ceb42ce38d4e58f45\n",
            "Successfully built sentence-transformers sacremoses\n",
            "Installing collected packages: sacremoses, tokenizers, transformers, sentencepiece, sentence-transformers\n",
            "Successfully installed sacremoses-0.0.43 sentence-transformers-1.0.3 sentencepiece-0.1.95 tokenizers-0.10.1 transformers-4.4.2\n"
          ],
          "name": "stdout"
        }
      ]
    },
    {
      "cell_type": "code",
      "metadata": {
        "id": "inUNCVtj0sbn"
      },
      "source": [
        "from sentence_transformers import SentenceTransformer"
      ],
      "execution_count": null,
      "outputs": []
    },
    {
      "cell_type": "code",
      "metadata": {
        "colab": {
          "base_uri": "https://localhost:8080/",
          "height": 66,
          "referenced_widgets": [
            "5e8f429847ea4837b3fb87dd8dc864a2",
            "4074c80696b3441aadeab0f702fbfaf1",
            "9b9e4bed27b5434aba008326550e7d88",
            "7f277b5aa79d4ec3a286db2e77d53ae8",
            "410aaac9589b4f9c83e1c5a701dc2d56",
            "5eb3881259eb429cb29f459f38b6e985",
            "156f8d5015b34ae9814f19ded96113fe",
            "38239b6e8c974a6db56f77b450e84b76"
          ]
        },
        "id": "gugOJKmK0yB5",
        "outputId": "211d32df-9046-460a-b349-46e9cc6e12e6"
      },
      "source": [
        "model = SentenceTransformer('bert-base-nli-mean-tokens')"
      ],
      "execution_count": null,
      "outputs": [
        {
          "output_type": "display_data",
          "data": {
            "application/vnd.jupyter.widget-view+json": {
              "model_id": "5e8f429847ea4837b3fb87dd8dc864a2",
              "version_minor": 0,
              "version_major": 2
            },
            "text/plain": [
              "HBox(children=(FloatProgress(value=0.0, max=405234788.0), HTML(value='')))"
            ]
          },
          "metadata": {
            "tags": []
          }
        },
        {
          "output_type": "stream",
          "text": [
            "\n"
          ],
          "name": "stdout"
        }
      ]
    },
    {
      "cell_type": "code",
      "metadata": {
        "colab": {
          "base_uri": "https://localhost:8080/"
        },
        "id": "84jGR3D30iGp",
        "outputId": "5af21b2a-1635-44e2-8a94-6a96cc4bb800"
      },
      "source": [
        "sentences = ['This framework generates embeddings for each input sentence',\n",
        "    'Sentences are passed as a list of string.', \n",
        "    'The quick brown fox jumps over the lazy dog.']\n",
        "sentence_embeddings = model.encode(sentences)\n",
        "\n",
        "print(\"Sentence embeddings:\")\n",
        "print(sentence_embeddings)"
      ],
      "execution_count": null,
      "outputs": [
        {
          "output_type": "stream",
          "text": [
            "Sentence embeddings:\n",
            "[[-0.10409493  0.5274767   1.179773   ... -0.43389142 -0.6945236\n",
            "   0.5386929 ]\n",
            " [-0.13118455 -0.173903    1.1052188  ...  0.02624436 -0.00269847\n",
            "   0.91611063]\n",
            " [-0.7489926   0.71891737 -1.0394562  ...  0.15582635  1.0202512\n",
            "   0.09790406]]\n"
          ],
          "name": "stdout"
        }
      ]
    },
    {
      "cell_type": "code",
      "metadata": {
        "colab": {
          "base_uri": "https://localhost:8080/"
        },
        "id": "sqD6Omge0t1M",
        "outputId": "5aefca38-7112-4d77-bfd0-d91474565a19"
      },
      "source": [
        "print(type(sentence_embeddings))"
      ],
      "execution_count": null,
      "outputs": [
        {
          "output_type": "stream",
          "text": [
            "<class 'numpy.ndarray'>\n"
          ],
          "name": "stdout"
        }
      ]
    },
    {
      "cell_type": "code",
      "metadata": {
        "colab": {
          "base_uri": "https://localhost:8080/"
        },
        "id": "38uGU2fm1FnR",
        "outputId": "29a1e084-4d7a-4b2e-a46e-5fdb6041dc94"
      },
      "source": [
        "print(sentence_embeddings.shape)"
      ],
      "execution_count": null,
      "outputs": [
        {
          "output_type": "stream",
          "text": [
            "(3, 768)\n"
          ],
          "name": "stdout"
        }
      ]
    },
    {
      "cell_type": "code",
      "metadata": {
        "colab": {
          "base_uri": "https://localhost:8080/"
        },
        "id": "ObLAkFGp1JX7",
        "outputId": "5b461a41-f887-4a43-ed72-5d38f7996d69"
      },
      "source": [
        "sentences = ['This framework generates embeddings for each input sentence. Sentences are passed as a list of string. The quick brown fox jumps over the lazy dog.']\n",
        "sentence_embeddings = model.encode(sentences)\n",
        "\n",
        "print(sentence_embeddings.shape)\n",
        "print(\"Sentence embeddings:\")\n",
        "print(sentence_embeddings)\n"
      ],
      "execution_count": null,
      "outputs": [
        {
          "output_type": "stream",
          "text": [
            "(1, 768)\n",
            "Sentence embeddings:\n",
            "[[-5.09060979e-01  1.02149987e+00 -2.89236665e-01  3.26976762e-03\n",
            "  -2.26842761e-02 -1.20847963e-01  4.80476797e-01 -6.31629467e-01\n",
            "  -4.30264413e-01 -4.15172607e-01 -7.17051923e-01  8.11524153e-01\n",
            "  -3.46210182e-01 -8.14107656e-01 -2.17540681e-01  1.00924075e-01\n",
            "   1.57960638e-01 -4.15184379e-01 -5.13937660e-02 -3.26724499e-01\n",
            "  -8.09451103e-01 -3.21518779e-01 -1.18642652e+00 -7.87028372e-01\n",
            "   1.08192503e+00  5.19267440e-01  3.00998867e-01  8.14692199e-01\n",
            "  -1.73008752e+00  4.59424317e-01 -3.51912707e-01  2.28337824e-01\n",
            "   6.21424437e-01 -2.64171511e-01 -6.80789530e-01  2.92581379e-01\n",
            "   6.41400218e-01 -1.64992109e-01  3.95605296e-01  1.35874629e-01\n",
            "   3.99487704e-01  4.60038722e-01  2.55142510e-01 -6.95197955e-02\n",
            "  -1.09245467e+00 -1.88056633e-01 -9.27392244e-01  2.51151770e-01\n",
            "   7.38964319e-01 -1.44188643e-01 -1.03498347e-01  9.59401488e-01\n",
            "  -8.57709795e-02  5.22120148e-02 -4.49553221e-01 -1.33083299e-01\n",
            "   9.25792396e-01 -1.08631030e-01 -8.06966484e-01 -4.08566386e-01\n",
            "  -8.42327356e-01  4.99370880e-02  6.30372837e-02  1.09867595e-01\n",
            "  -9.66463566e-01  4.18051898e-01  4.08839345e-01 -1.99328691e-01\n",
            "  -7.31965363e-01  5.43222606e-01 -6.17898516e-02 -1.11307299e+00\n",
            "  -8.33530664e-01  4.31079000e-01  5.85303605e-02 -7.95508027e-01\n",
            "  -1.12437017e-01  2.94912040e-01  3.77811164e-01  4.84876573e-01\n",
            "  -8.59163553e-02  4.78934139e-01  7.49334395e-02 -1.05176771e+00\n",
            "   1.07423937e+00 -1.59910068e-01  4.69573051e-01  2.75821745e-01\n",
            "  -4.05459702e-01 -1.21965148e-01  7.05791056e-01 -5.43456137e-01\n",
            "  -4.18608695e-01  2.80743748e-01 -6.27788007e-01 -2.96892673e-01\n",
            "   3.56329829e-01  6.81871623e-02  3.61040413e-01  1.74300432e-01\n",
            "  -9.63251472e-01  1.43482462e-01 -3.56171042e-01  5.77994026e-02\n",
            "  -5.78734636e-01  1.62510529e-01 -6.48460329e-01 -8.46001089e-01\n",
            "  -1.09880459e+00  6.21283710e-01  3.80456895e-02 -2.30509415e-01\n",
            "   2.82844633e-01 -8.58628899e-02 -1.83876321e-01 -1.53538492e-02\n",
            "   1.36022329e-01  1.36249578e+00 -1.03264473e-01  3.82760525e-01\n",
            "   4.21851456e-01 -5.66318989e-01  3.53171349e-01 -5.84140792e-02\n",
            "   1.26873240e-01 -1.21209130e-01  5.54242730e-02  7.37395763e-01\n",
            "   7.26111233e-01 -5.38088560e-01  3.72331887e-01  7.18112469e-01\n",
            "  -3.17966998e-01 -3.10237020e-01  3.51501793e-01  4.68928695e-01\n",
            "   3.35473776e-01 -4.22567546e-01 -4.19558585e-01 -3.90145779e-01\n",
            "  -1.27116293e-01 -7.23613380e-03  6.00758135e-01 -1.87833682e-01\n",
            "  -5.01968116e-02 -2.59202179e-02  4.75497454e-01 -2.86198050e-01\n",
            "  -1.35242566e-01  5.47076404e-01 -4.10689622e-01  3.39867413e-01\n",
            "  -1.33919334e+00  4.81953055e-01 -4.18943197e-01 -2.44872555e-01\n",
            "  -7.94173956e-01 -7.81764388e-01  4.57467251e-02  6.58289373e-01\n",
            "   4.66716826e-01  4.46791142e-01 -6.20841920e-01 -4.84229438e-02\n",
            "   5.23978353e-01 -7.41228700e-01 -4.81504858e-01 -2.91482151e-01\n",
            "  -1.17426789e+00 -3.33430409e-01 -3.49960834e-01  1.07863688e+00\n",
            "   8.29140425e-01 -1.45018980e-01  8.72722790e-02 -1.48807392e-01\n",
            "   3.32869679e-01 -2.06750527e-01 -2.39083767e-01 -8.93882871e-01\n",
            "  -2.06482440e-01 -3.52366894e-01 -3.16077977e-01  1.81141049e-01\n",
            "   1.68476641e-01  2.41878480e-01  6.42719924e-01 -2.19637290e-01\n",
            "  -4.22174595e-02 -8.39329541e-01 -6.26329839e-01 -6.91111684e-01\n",
            "   3.79794478e-01 -1.03673923e+00  3.50756794e-01 -2.74747796e-02\n",
            "  -1.19107294e+00  2.55385935e-01  4.53154415e-01  1.56774759e-01\n",
            "  -6.70594811e-01  1.16706632e-01  4.73537743e-01 -7.04882145e-01\n",
            "   1.90798402e-01  5.29610813e-01 -4.20444727e-01  2.94981956e-01\n",
            "  -8.83141816e-01  2.64540642e-01 -4.24725235e-01  5.20454109e-01\n",
            "   3.52128334e-02  2.45018438e-01  4.47871119e-01  2.59198517e-01\n",
            "   7.68503323e-02 -2.28727028e-01  4.73818123e-01  1.38682044e+00\n",
            "  -4.10207137e-02  1.03120625e-01 -8.37209582e-01 -1.48795694e-01\n",
            "  -5.01698673e-01  7.22222269e-01  6.74540401e-01  2.55014896e-02\n",
            "   8.33206177e-01  3.94011468e-01  1.86044484e-01 -2.22655311e-01\n",
            "  -4.83109146e-01  3.51437300e-01 -4.15427089e-02 -3.75387430e-01\n",
            "   2.56094690e-02  2.61522621e-01  7.14955389e-01 -1.75744727e-01\n",
            "   4.47682709e-01  7.58190811e-01  9.03516710e-02  6.64932579e-02\n",
            "  -1.56537235e-01 -7.64222816e-02  2.96937257e-01  5.23259163e-01\n",
            "  -8.44098032e-01 -4.89213318e-01 -1.36920571e-01  3.17676038e-01\n",
            "   1.27062106e+00 -9.77693021e-01  7.61532784e-01  2.21331627e-03\n",
            "  -3.38361412e-01  2.01120242e-01  7.87062496e-02 -1.04346238e-01\n",
            "   1.52752563e-01 -7.53847659e-01  1.17465392e-01  6.72575235e-02\n",
            "  -6.28668547e-01 -7.63963044e-01  1.63697693e-02 -7.44349137e-02\n",
            "   9.11242738e-02  4.52579021e-01  5.08255184e-01 -4.22517180e-01\n",
            "  -2.67109752e-01  4.66838658e-01 -4.16013628e-01 -6.33409798e-01\n",
            "   4.15165097e-01 -6.41973987e-02 -2.11138632e-02 -4.36908185e-01\n",
            "  -9.84794378e-01 -2.22314820e-02 -4.91147578e-01  4.09900099e-01\n",
            "   3.09458315e-01 -7.54627883e-02  6.26896739e-01 -7.95424879e-01\n",
            "  -6.83142781e-01  4.58533466e-01  4.10771638e-01  1.50156673e-02\n",
            "  -1.11149430e-01  2.21046850e-01 -7.06565022e-01  2.11490154e-01\n",
            "   5.65342963e-01 -1.29620099e+00  6.00580990e-01 -6.31445765e-01\n",
            "   1.61228329e-01  6.25192150e-02 -4.50477421e-01 -1.22393638e-01\n",
            "  -8.53451267e-02  4.93172973e-01  3.07613045e-01  4.79617715e-01\n",
            "  -1.59864962e+00 -2.37769186e-01 -9.86015275e-02 -1.62279278e-01\n",
            "   2.32408375e-01  1.89663544e-01  4.10967283e-02  1.88467041e-01\n",
            "  -5.79714656e-01  1.12088907e+00 -7.75092244e-01 -1.20191360e+00\n",
            "   2.51549006e-01  1.13183901e-01  2.85915196e-01 -1.18482351e+00\n",
            "   3.75897884e-01 -8.57846618e-01 -2.79976130e-01  8.52490962e-01\n",
            "  -2.76718408e-01 -2.93570012e-01  6.11829698e-01  1.52489737e-01\n",
            "   1.92081761e-02  5.54303825e-01 -5.82477152e-01  2.91899323e-01\n",
            "  -1.00671220e+00 -4.55976039e-01  1.86399609e-01 -5.58402896e-01\n",
            "  -2.49142900e-01  1.51117265e-01 -2.14947581e-01  1.80797614e-02\n",
            "   2.30969742e-01  7.04782069e-01 -3.75361927e-02  1.06410396e+00\n",
            "   9.70279351e-02  1.82669349e-02 -4.83477205e-01 -9.83979285e-01\n",
            "   2.10003138e-01 -6.84374988e-01 -3.13963711e-01 -7.87955225e-01\n",
            "  -2.70438939e-01 -1.45834655e-01 -9.93300676e-01  2.23766878e-01\n",
            "  -4.02322382e-01  1.25031853e+00  7.53644407e-01 -8.92922282e-01\n",
            "   1.91989332e-01  3.90213937e-01  2.05863893e-01  3.03187847e-01\n",
            "   1.54195145e-01 -2.67639279e-01  3.18779230e-01  7.98513591e-01\n",
            "  -8.66358355e-02 -1.87012881e-01 -1.08510718e-01 -7.93295979e-01\n",
            "  -3.40436727e-01 -1.47803441e-01  2.24072989e-02 -4.13219988e-01\n",
            "  -3.31522703e-01 -8.95580351e-01  8.22858393e-01  3.71436983e-01\n",
            "  -9.34115518e-03 -2.72304296e-01  3.75131726e-01  8.48964974e-02\n",
            "  -4.03367519e-01 -7.05513716e-01  1.67165324e-01  2.76161492e-01\n",
            "  -4.58186209e-01 -2.83843994e-01 -5.71912289e-01  3.12637866e-01\n",
            "  -4.04188782e-01 -6.98516250e-01 -1.36727309e-02 -9.08403397e-01\n",
            "  -3.11383396e-01 -2.62445182e-01  9.68183994e-01 -2.95818835e-01\n",
            "  -4.01048869e-01 -7.35937655e-01  3.59741449e-01 -1.04413152e-01\n",
            "   8.34111989e-01 -5.61948299e-01  5.06491065e-01 -4.13380712e-01\n",
            "   1.19294316e-01  1.11197181e-01 -1.84450284e-01  4.66587245e-01\n",
            "   4.13006276e-01  7.51900911e-01 -1.29924977e+00  4.58493024e-01\n",
            "  -4.07461047e-01 -1.67609192e-03  8.05555701e-01  5.21666467e-01\n",
            "   3.62481028e-01 -4.49417114e-01 -1.05201983e+00  1.95533425e-01\n",
            "  -5.73371470e-01  6.00228310e-01  9.20444429e-02 -1.60316318e-01\n",
            "  -6.04762077e-01 -4.93103147e-01  8.62485170e-01 -4.37041879e-01\n",
            "   1.44549465e+00 -8.30787122e-01 -7.28293061e-02  1.37170553e-01\n",
            "  -3.19497347e-01 -8.26109231e-01  1.55800164e+00 -7.26001859e-01\n",
            "  -1.17725760e-01  3.81568164e-01  1.30042687e-01 -1.18510330e+00\n",
            "  -7.75297210e-02  2.56501973e-01  4.25960213e-01 -2.98831582e-01\n",
            "  -1.13435060e-01  4.41117406e-01  1.14009714e+00 -8.27937722e-01\n",
            "  -4.33419615e-01 -9.10738945e-01 -6.55475259e-01 -3.04082751e-01\n",
            "   6.07747018e-01  8.08221459e-01  2.33715996e-02 -2.75392890e-01\n",
            "   5.84529281e-01  2.49196976e-01  6.94904804e-01 -9.41910148e-02\n",
            "   5.10540724e-01 -1.06233068e-01  2.47976795e-01 -6.54519975e-01\n",
            "   4.05168772e-01  7.83035755e-01  6.16332889e-01 -1.59356087e-01\n",
            "  -5.62229633e-01  5.18523932e-01 -9.16976631e-01  6.41350389e-01\n",
            "  -5.72287627e-02  9.76479709e-01  4.59014028e-01 -5.19943833e-01\n",
            "   2.92283237e-01  3.62233780e-02  3.22828889e-02  8.12088549e-01\n",
            "  -3.02021861e-01 -4.52837974e-01  2.58031636e-01  4.19973910e-01\n",
            "  -3.86637561e-02 -7.54548669e-01  8.75130534e-01  7.90160954e-01\n",
            "   3.68155390e-01 -9.99828950e-02 -2.33783409e-01 -1.31207466e-01\n",
            "   1.16802895e+00  3.03241909e-01 -3.97271603e-01 -4.16861892e-01\n",
            "   2.12658048e-01  8.28205884e-01  2.97798187e-01 -1.10402155e+00\n",
            "   1.25244543e-01 -2.75140643e-01 -3.43664363e-02 -9.21221793e-01\n",
            "   9.92251992e-01 -1.03414804e-01 -2.52676010e-01  1.14627108e-01\n",
            "   6.04459286e-01 -3.31881255e-01 -2.11090997e-01 -3.89783084e-01\n",
            "   8.17657188e-02 -5.85689902e-01  1.09776936e-01 -5.35316527e-01\n",
            "   8.30124915e-02  2.97842205e-01 -1.75758734e-01 -9.05249193e-02\n",
            "  -1.96263120e-01 -4.79170606e-02 -4.20616120e-01  4.14672457e-02\n",
            "   3.56230319e-01  4.61427778e-01 -7.96317935e-01  7.92709708e-01\n",
            "  -5.67681313e-01  1.48096636e-01  1.06503773e+00  8.01408838e-04\n",
            "  -2.19697028e-01  2.45034531e-01 -3.56379198e-03 -1.14705086e+00\n",
            "  -1.85692042e-01  1.07734501e-02  2.77666181e-01 -1.99771553e-01\n",
            "  -1.67376980e-01  4.69107866e-01  5.19731462e-01  7.25579798e-01\n",
            "   6.95022225e-01  8.44297767e-01 -2.29096934e-02 -2.68455923e-01\n",
            "  -8.42071354e-01  2.77981281e-01 -1.90138876e-01  1.26049149e+00\n",
            "   4.78601716e-02  8.59574735e-01 -4.70219284e-01  9.79323864e-01\n",
            "  -5.01352668e-01 -4.00398731e-01 -1.15073867e-01  2.01479048e-01\n",
            "  -5.61749160e-01  6.89952672e-01  1.91933960e-01 -1.93803295e-01\n",
            "   1.11964211e-01  1.05422623e-01 -1.44432652e+00 -8.98224294e-01\n",
            "   1.96053803e-01 -5.59659600e-01  5.05022466e-01 -8.18754360e-02\n",
            "   4.13406551e-01  5.66797137e-01  2.89085954e-01  6.56562969e-02\n",
            "   7.54958391e-01  6.36742949e-01  1.91189826e-01  4.75593090e-01\n",
            "   1.53817504e-03 -1.62647933e-01 -1.53715432e-01  9.51222628e-02\n",
            "   2.04530180e-01 -7.29348734e-02  5.38689792e-01 -3.92864645e-01\n",
            "  -7.30098039e-02  6.45700991e-01 -2.45467737e-01  8.04384500e-02\n",
            "   4.77331847e-01 -4.17683840e-01 -7.09606409e-01  1.26305982e-01\n",
            "   6.96091801e-02  4.46477085e-01  1.05715168e+00 -1.92921817e-01\n",
            "  -8.01587343e-01 -1.61945418e-01  1.29586017e+00 -7.34043598e-01\n",
            "  -5.96132398e-01 -3.37169141e-01 -6.86366558e-02  4.34708476e-01\n",
            "   2.57014513e-01  1.98400155e-01 -1.71255693e-01 -2.09755108e-01\n",
            "  -1.43607855e-01  5.43486238e-01 -2.44116634e-01 -7.20301509e-01\n",
            "   1.55275771e-02 -1.09295034e+00  9.25154567e-01  2.71752983e-01\n",
            "  -3.58622968e-01 -6.37076318e-01 -1.25147432e-01 -2.07750931e-01\n",
            "  -1.67461479e+00  9.82440352e-01 -7.84221828e-01  1.46355987e+00\n",
            "   2.76075065e-01  1.26765758e-01 -4.04340655e-01  2.96752840e-01\n",
            "  -4.13126588e-01 -2.84597725e-01 -7.19105124e-01 -3.17624547e-02\n",
            "   1.11111951e+00  4.13272917e-01  5.83351493e-01 -2.25889638e-01\n",
            "   5.70813179e-01 -2.92433351e-01 -3.65616500e-01  1.15015900e+00\n",
            "  -4.98984247e-01 -2.18616188e-01 -6.78399980e-01  4.69524980e-01\n",
            "  -4.04447824e-01  1.06870019e+00  1.75224379e-01  1.49458635e+00\n",
            "   4.72764373e-01  2.05539584e-01 -3.82516682e-01 -3.51145297e-01\n",
            "   7.44953871e-01  3.07403892e-01 -7.27214038e-01  2.98095822e-01\n",
            "   9.21964049e-02  8.38589668e-01 -5.26529014e-01  1.29032686e-01\n",
            "  -1.32529035e-01  4.71621007e-01  8.13320279e-01  4.28564847e-01\n",
            "   7.94940829e-01  6.86654210e-01 -2.34838724e-01 -4.86600399e-01\n",
            "  -8.92835975e-01 -1.21823110e-01 -3.99864614e-01 -1.46728396e-01\n",
            "   1.55251312e+00  1.29388675e-01 -8.16932917e-01  1.27735391e-01\n",
            "  -6.53149903e-01  5.83233356e-01 -3.47081125e-01  5.13894796e-01\n",
            "  -2.94610918e-01 -2.56880045e-01 -3.50969851e-01 -3.98468226e-01\n",
            "  -2.18333155e-01  2.85722991e-03 -9.68091369e-01  1.15389295e-01\n",
            "  -6.54648542e-01  5.90710223e-01  2.91534513e-01 -1.57664210e-01\n",
            "   3.49706680e-01  7.47312486e-01  2.36699536e-01 -1.55636922e-01\n",
            "  -3.26171756e-01 -7.77781662e-03  2.91327029e-01  7.98622429e-01\n",
            "   3.28141779e-01  3.77893627e-01 -5.25937863e-02 -7.03461707e-01\n",
            "   2.03012407e-01 -6.96733221e-02  5.19215703e-01  6.10419095e-01\n",
            "   2.08105817e-01 -2.51158059e-01  4.05882359e-01 -1.04361284e+00\n",
            "  -2.80667990e-01  2.14074552e-01 -1.27186388e-01  9.08871144e-02\n",
            "   3.95645022e-01 -3.10670227e-01 -7.16426149e-02 -7.59865403e-01\n",
            "  -8.25879157e-01 -3.19164962e-01 -2.13686317e-01 -6.44955277e-01\n",
            "  -8.53736937e-01 -3.48485798e-01 -5.61653912e-01  5.85780405e-02\n",
            "   2.25532856e-02 -1.08205938e+00 -2.39833966e-01 -8.56932700e-01\n",
            "   4.40155208e-01  5.18502414e-01  5.82889080e-01 -4.84087132e-02\n",
            "  -5.02999723e-01  6.29192531e-01  9.83422548e-02  3.80378246e-01\n",
            "   3.54574509e-02  4.75673467e-01  1.07177520e+00  5.94188154e-01\n",
            "  -1.01487017e+00 -7.20404923e-01 -6.16973400e-01  6.12677753e-01\n",
            "  -1.51159286e+00 -3.26431006e-01  9.16975737e-02 -9.55152154e-01\n",
            "  -6.91605583e-02  3.22422326e-01  5.08205533e-01  5.27151287e-01]]\n"
          ],
          "name": "stdout"
        }
      ]
    },
    {
      "cell_type": "code",
      "metadata": {
        "id": "Yp-TXbXH4vRX"
      },
      "source": [
        "import json"
      ],
      "execution_count": null,
      "outputs": []
    },
    {
      "cell_type": "code",
      "metadata": {
        "id": "Vvv9vH8j49Nw"
      },
      "source": [
        "data = json.loads(open(\"dataset_wordseye_724.json\", \"r\").read())"
      ],
      "execution_count": null,
      "outputs": []
    },
    {
      "cell_type": "code",
      "metadata": {
        "colab": {
          "base_uri": "https://localhost:8080/"
        },
        "id": "4kfJovVn5ExG",
        "outputId": "a7d55737-0123-46ea-e6a5-f4561b5e5b50"
      },
      "source": [
        "print(type(data))"
      ],
      "execution_count": null,
      "outputs": [
        {
          "output_type": "stream",
          "text": [
            "<class 'dict'>\n"
          ],
          "name": "stdout"
        }
      ]
    },
    {
      "cell_type": "code",
      "metadata": {
        "colab": {
          "base_uri": "https://localhost:8080/"
        },
        "id": "AIEMVVs45Px2",
        "outputId": "fbb8bcbb-d650-447a-d64c-535477b799bd"
      },
      "source": [
        "print(data)"
      ],
      "execution_count": null,
      "outputs": [
        {
          "output_type": "stream",
          "text": [
            "{'dataset': 'wordseye', 'images': [{'filepath': 'train', 'sentids': [0], 'filename': 'ws-image-db_2013-10-18_20017.jpg', 'imgid': 0, 'split': 'train', 'sentences': [{'tokens': ['the', 'cat', 'is', 'on', 'the', 'table', 'the', 'rat', 'is', 'in', 'front', 'of', 'the', 'cat', 'it', 'is', 'facing', 'the', 'cat'], 'raw': 'the cat is on the table. the rat is in front of the cat. it is facing the cat.', 'imgid': 0, 'sentid': 0}]}, {'filepath': 'train', 'sentids': [1], 'filename': 'ws-image-db_2013-10-3_20013.jpg', 'imgid': 1, 'split': 'train', 'sentences': [{'tokens': ['the', 'cat', 'is', 'on', 'the', 'table', 'the', 'dog', 'is', 'under', 'table'], 'raw': 'the cat is on the table. the dog is under table.', 'imgid': 1, 'sentid': 1}]}, {'filepath': 'train', 'sentids': [2], 'filename': 'ws-image-db_2013-10-3_20014.jpg', 'imgid': 2, 'split': 'train', 'sentences': [{'tokens': ['the', 'vase', 'is', 'on', 'the', 'table', 'the', 'tiny', 'elephant', 'is', 'under', 'the', 'table'], 'raw': 'the vase is on the table. the tiny elephant is under the table.', 'imgid': 2, 'sentid': 2}]}, {'filepath': 'train', 'sentids': [3], 'filename': 'ws-image-db_2013-11-12_20019.jpg', 'imgid': 3, 'split': 'train', 'sentences': [{'tokens': ['the', 'cat', 'is', 'on', 'the', 'table'], 'raw': 'the cat is on the table.', 'imgid': 3, 'sentid': 3}]}, {'filepath': 'val', 'sentids': [4], 'filename': 'ws-image-db_2014-1-9_20020.jpg', 'imgid': 4, 'split': 'test', 'sentences': [{'tokens': ['the', 'room', 'is', 'white', 'it', 'is', 'ten', 'feet', 'high', 'and', '15', 'feet', 'deep', 'it', 'is', '10', 'feet', 'wide', 'the', 'floor', 'is', 'tile', 'the', 'first', 'urinal', 'is', 'on', 'the', 'left', 'wall', 'it', 'is', 'two', 'feet', 'above', 'the', 'floor', 'the', 'second', 'urinal', 'is', 'two', 'feet', 'to', 'the', 'left', 'of', 'the', 'first', 'urinal', 'the', 'first', 'sink', 'is', 'against', 'the', 'right', 'wall', 'the', 'second', 'sink', 'is', 'left', 'of', 'the', 'first', 'sink', 'a', 'toilet', 'is', 'against', 'the', 'back', 'wall', 'a', 'white', 'wall', 'is', 'one', 'foot', 'to', 'the', 'left', 'of', 'the', 'toilet', 'it', 'is', 'six', 'feet', 'high', 'and', 'three', 'feet', 'wide', 'it', 'is', 'facing', 'right', 'a', 'white', 'wall', 'is', 'one', 'foot', 'to', 'the', 'right', 'of', 'the', 'toilet', 'it', 'is', 'six', 'feet', 'high', 'and', 'three', 'feet', 'wide', 'it', 'is', 'facing', 'right'], 'raw': 'the room is white. it is ten feet high and 15 feet deep. it is 10 feet wide. the floor is tile. the first urinal is on the left wall. it is two feet above the floor. the second urinal is two feet to the left of the first urinal. the first sink is against the right wall. the second sink is left of the first sink. a toilet is against the back wall. a white wall is one foot to the left of the toilet. it is six feet high and three feet wide. it is facing right. a white wall is one foot to the right of the toilet. it is six feet high and three feet wide. it is facing right.', 'imgid': 4, 'sentid': 4}]}, {'filepath': 'val', 'sentids': [5], 'filename': 'ws-image-db_2014-10-1_20652.jpg', 'imgid': 5, 'split': 'test', 'sentences': [{'tokens': ['the', '80', 'reflective', 'grey', 'mountain', 'is', '2', 'feet', 'in', 'the', 'shiny', 'water', 'ground', 'the', 'mountain', 'is', '70', 'feet', 'wide', 'the', 'humongous', '20', 'reflective', 'white', 'cat', 'is', '20', 'feet', 'in', 'the', 'mountain', 'the', 'cloudy', 'sky', 'the', 'red', 'light', 'is', '2', 'feet', 'in', 'front', 'of', 'the', 'cat', 'the', 'red', 'light', 'is', 'above', 'the', 'cat', 'the', 'small', 'white', 'airplane', 'is', '2', 'feet', 'above', 'the', 'cat', 'the', 'airplane', 'is', 'in', 'front', 'of', 'the', 'cat'], 'raw': 'the 80% reflective grey mountain is 2 feet in the shiny water ground. the mountain is 70 feet wide. the humongous 20% reflective white cat is 20 feet in the mountain. the [cloudy] sky.   the red light is 2 feet in front of the cat. the red light is above the cat.  the small white airplane is 2 feet above the cat. the airplane is in front of the cat.', 'imgid': 5, 'sentid': 5}]}, {'filepath': 'val', 'sentids': [6], 'filename': 'ws-image-db_2014-10-1_20653.jpg', 'imgid': 6, 'split': 'test', 'sentences': [{'tokens': ['the', 'small', 'table', 'is', 'on', 'the', 'shiny', 'dirt', 'mountain', 'range', 'the', 'tiny', 'grass', 'elephant', 'is', 'on', 'the', 'table', 'the', 'small', 'stone', 'horse', 'is', '1', 'foot', 'to', 'the', 'right', 'of', 'the', 'table', 'it', 'is', 'cloudy', 'the', 'huge', 'green', 'octopus', 'is', '4', 'feet', 'behind', 'the', 'table', 'the', 'blue', 'light', 'is', '2', 'feet', 'above', 'the', 'elephant', 'the', 'red', 'light', 'is', '2', 'feet', 'above', 'the', 'horse'], 'raw': 'the small table is on the shiny dirt mountain range. the tiny [grass] elephant is on the table. the small stone horse is 1 foot to the right of the table. it is cloudy. the huge green octopus is 4 feet behind the table. the blue light is 2 feet above the elephant. the red light is 2 feet above the horse.', 'imgid': 6, 'sentid': 6}]}, {'filepath': 'val', 'sentids': [7], 'filename': 'ws-image-db_2014-10-1_20654.jpg', 'imgid': 7, 'split': 'test', 'sentences': [{'tokens': ['the', 'small', 'table', 'is', 'on', 'the', 'shiny', 'dirt', 'mountain', 'range', 'the', 'tiny', 'grass', 'elephant', 'is', 'on', 'the', 'table', 'the', 'small', 'stone', 'horse', 'is', '1', 'foot', 'to', 'the', 'right', 'of', 'the', 'table', 'it', 'is', 'cloudy', 'the', 'huge', 'green', 'octopus', 'is', '4', 'feet', 'behind', 'the', 'table', 'the', 'blue', 'light', 'is', '2', 'feet', 'above', 'the', 'elephant', 'the', 'red', 'light', 'is', '2', 'feet', 'above', 'the', 'horse', 'the', 'very', 'tiny', 'blue', 'sailboat', 'is', '6', 'inches', 'above', 'the', 'elephant', 'the', 'sailboat', 'is', 'facing', 'right'], 'raw': 'the small table is on the shiny dirt mountain range. the tiny [grass] elephant is on the table. the small stone horse is 1 foot to the right of the table. it is cloudy. the huge green octopus is 4 feet behind the table. the blue light is 2 feet above the elephant. the red light is 2 feet above the horse. the very tiny blue sailboat is 6 inches above the elephant. the sailboat is facing right.', 'imgid': 7, 'sentid': 7}]}, {'filepath': 'val', 'sentids': [8], 'filename': 'ws-image-db_2013-3-25_2067.jpg', 'imgid': 8, 'split': 'val', 'sentences': [{'tokens': ['the', 'cat', 'is', 'red'], 'raw': 'the cat is red.', 'imgid': 8, 'sentid': 8}]}, {'filepath': 'val', 'sentids': [9], 'filename': 'ws-image-db_2014-11-10_21196.jpg', 'imgid': 9, 'split': 'restval', 'sentences': [{'tokens': ['the', 'small', 'star', 'is', '1', 'inch', 'above', 'the', 'bin', 'the', 'star', 'texture', 'is', 'in', 'the', 'sky'], 'raw': 'the small star is 1 inch above the bin. the star texture is in the sky.', 'imgid': 9, 'sentid': 9}]}, {'filepath': 'val', 'sentids': [10], 'filename': 'ws-image-db_2014-11-10_21197.jpg', 'imgid': 10, 'split': 'val', 'sentences': [{'tokens': ['the', 'small', 'star', 'is', '1', 'inch', 'above', 'the', 'bin', 'the', 'star', 'texture', 'is', 'on', 'the', 'sky', 'the', 'ground', 'is', 'shiny'], 'raw': 'the small star is 1 inch above the bin. the star texture is on the sky. the ground is shiny.', 'imgid': 10, 'sentid': 10}]}, {'filepath': 'val', 'sentids': [11], 'filename': 'ws-image-db_2014-11-10_21198.jpg', 'imgid': 11, 'split': 'restval', 'sentences': [{'tokens': ['the', 'westside', 'wall', 'is', '8', 'feet', 'behind', 'the', 'mondrian', 'dog', 'the', 'wall', 'is', '10', 'feet', 'tall', 'the', 'wall', 'is', '14', 'feet', 'wide', 'the', 'dog', 'is', 'facing', 'the', 'wall', 'it', 'is', 'cloudy', 'the', 'ground', 'is', 'marble', 'the', 'mondrian', 'man', 'is', '2', 'feet', 'to', 'the', 'left', 'of', 'the', 'dog', 'he', 'is', 'facing', 'the', 'wall', 'the', 'red', 'light', 'is', '2', 'feet', 'in', 'front', 'of', 'the', 'man', 'the', 'green', 'light', 'is', '2', 'feet', 'in', 'front', 'of', 'the', 'dog', 'it', 'is', 'morning'], 'raw': 'the [westside] wall is 8 feet behind the mondrian dog. the wall is 10 feet tall. the wall is 14 feet wide. the dog is facing the wall. it is cloudy. the ground is marble. the mondrian man is 2 feet to the left of the dog. he is facing the wall. the red light is 2 feet in front of the man. the green light is 2 feet in front of the dog. it is morning.', 'imgid': 11, 'sentid': 11}]}]}\n"
          ],
          "name": "stdout"
        }
      ]
    },
    {
      "cell_type": "code",
      "metadata": {
        "id": "-08DyqDl6MXW"
      },
      "source": [
        "def processedCaption(caption):\n",
        "    return caption.replace(\"[\", \"\").replace(\"]\", \"\")\n",
        "    # tokenizer = RegexpTokenizer(r'\\w+')\n",
        "    # return \" \".join(tokenizer.tokenize(caption.lower())) "
      ],
      "execution_count": null,
      "outputs": []
    },
    {
      "cell_type": "code",
      "metadata": {
        "id": "PpUkeJ6U6mP-"
      },
      "source": [
        "# from nltk.tokenize import RegexpTokenizer"
      ],
      "execution_count": null,
      "outputs": []
    },
    {
      "cell_type": "code",
      "metadata": {
        "id": "k0SbG4SA5Q-z"
      },
      "source": [
        "captions_list = []\n",
        "for img in data[\"images\"]:\n",
        "  c = processedCaption(img[\"sentences\"][0][\"raw\"])\n",
        "  # print(c)\n",
        "  captions_list.append(c)"
      ],
      "execution_count": null,
      "outputs": []
    },
    {
      "cell_type": "code",
      "metadata": {
        "id": "STEmO8_f7EbM"
      },
      "source": [
        "sentence_embeddings = model.encode(captions_list)"
      ],
      "execution_count": null,
      "outputs": []
    },
    {
      "cell_type": "code",
      "metadata": {
        "colab": {
          "base_uri": "https://localhost:8080/"
        },
        "id": "csphHlfI7eDB",
        "outputId": "81966c3b-4324-4284-ac21-a28ca277020b"
      },
      "source": [
        "print(sentence_embeddings.shape)"
      ],
      "execution_count": null,
      "outputs": [
        {
          "output_type": "stream",
          "text": [
            "(724, 768)\n"
          ],
          "name": "stdout"
        }
      ]
    },
    {
      "cell_type": "code",
      "metadata": {
        "id": "vDowwqnr73me"
      },
      "source": [
        "import numpy as np\n",
        "from sklearn.decomposition import PCA"
      ],
      "execution_count": null,
      "outputs": []
    },
    {
      "cell_type": "code",
      "metadata": {
        "id": "P5wSaRB07gdi"
      },
      "source": [
        "X = sentence_embeddings\n",
        "pca = PCA(n_components=3)\n",
        "reduced_sentence_embeddings = pca.fit_transform(X)"
      ],
      "execution_count": null,
      "outputs": []
    },
    {
      "cell_type": "code",
      "metadata": {
        "colab": {
          "base_uri": "https://localhost:8080/"
        },
        "id": "NL0t_e3a8RAG",
        "outputId": "17c6b1b0-2559-4e5c-d0bf-0fc22828d281"
      },
      "source": [
        "print(type(reduced_sentence_embeddings))\n",
        "print(reduced_sentence_embeddings.shape)"
      ],
      "execution_count": null,
      "outputs": [
        {
          "output_type": "stream",
          "text": [
            "<class 'numpy.ndarray'>\n",
            "(724, 3)\n"
          ],
          "name": "stdout"
        }
      ]
    },
    {
      "cell_type": "code",
      "metadata": {
        "id": "NQeMVVfe8Vq_"
      },
      "source": [
        "import matplotlib.pyplot as plt"
      ],
      "execution_count": null,
      "outputs": []
    },
    {
      "cell_type": "code",
      "metadata": {
        "id": "3CbH861H-pYE"
      },
      "source": [
        "%matplotlib inline"
      ],
      "execution_count": null,
      "outputs": []
    },
    {
      "cell_type": "code",
      "metadata": {
        "colab": {
          "base_uri": "https://localhost:8080/",
          "height": 265
        },
        "id": "Duj2Uj4i-HhA",
        "outputId": "3bb034de-7007-43f0-d6b7-6b746219953a"
      },
      "source": [
        "fig = plt.figure()\n",
        "ax = plt.axes(projection='3d')\n",
        "ax.scatter3D(reduced_sentence_embeddings[:,0], reduced_sentence_embeddings[:,1], reduced_sentence_embeddings[:,2])"
      ],
      "execution_count": null,
      "outputs": [
        {
          "output_type": "execute_result",
          "data": {
            "text/plain": [
              "<mpl_toolkits.mplot3d.art3d.Path3DCollection at 0x7fd1433eba10>"
            ]
          },
          "metadata": {
            "tags": []
          },
          "execution_count": 60
        },
        {
          "output_type": "display_data",
          "data": {
            "image/png": "[encoded data removed]",
            "text/plain": [
              "<Figure size 432x288 with 1 Axes>"
            ]
          },
          "metadata": {
            "tags": [],
            "needs_background": "light"
          }
        }
      ]
    },
    {
      "cell_type": "code",
      "metadata": {
        "id": "RNMluWmO-KtQ"
      },
      "source": [
        "from sklearn.cluster import KMeans"
      ],
      "execution_count": null,
      "outputs": []
    },
    {
      "cell_type": "code",
      "metadata": {
        "id": "RZ751jdiAIhQ"
      },
      "source": [
        "kmeans = KMeans(n_clusters=2, random_state=0).fit(reduced_sentence_embeddings)\n",
        "lab = kmeans.labels_"
      ],
      "execution_count": null,
      "outputs": []
    },
    {
      "cell_type": "code",
      "metadata": {
        "colab": {
          "base_uri": "https://localhost:8080/"
        },
        "id": "eMshNwU_AOfI",
        "outputId": "4376d30e-076e-4f16-b702-3bee5713538f"
      },
      "source": [
        "print(type(lab))\n",
        "print(lab.shape)"
      ],
      "execution_count": null,
      "outputs": [
        {
          "output_type": "stream",
          "text": [
            "<class 'numpy.ndarray'>\n",
            "(724,)\n"
          ],
          "name": "stdout"
        }
      ]
    },
    {
      "cell_type": "code",
      "metadata": {
        "colab": {
          "base_uri": "https://localhost:8080/",
          "height": 265
        },
        "id": "Gv7ayLVrAU-G",
        "outputId": "989c8379-8b1a-49f3-ac60-7a21be9e01e1"
      },
      "source": [
        "fig = plt.figure()\n",
        "ax = plt.axes(projection='3d')\n",
        "ax.scatter3D(reduced_sentence_embeddings[:,0], reduced_sentence_embeddings[:,1], reduced_sentence_embeddings[:,2], c = lab)"
      ],
      "execution_count": null,
      "outputs": [
        {
          "output_type": "execute_result",
          "data": {
            "text/plain": [
              "<mpl_toolkits.mplot3d.art3d.Path3DCollection at 0x7fd1433c6690>"
            ]
          },
          "metadata": {
            "tags": []
          },
          "execution_count": 66
        },
        {
          "output_type": "display_data",
          "data": {
            "image/png": "[encoded data removed]",
            "text/plain": [
              "<Figure size 432x288 with 1 Axes>"
            ]
          },
          "metadata": {
            "tags": [],
            "needs_background": "light"
          }
        }
      ]
    },
    {
      "cell_type": "code",
      "metadata": {
        "colab": {
          "base_uri": "https://localhost:8080/",
          "height": 265
        },
        "id": "JuEt_fDQAYfE",
        "outputId": "7b93072e-a057-404c-e7dc-4e01de13fd60"
      },
      "source": [
        "kmeans = KMeans(n_clusters=3, random_state=0).fit(reduced_sentence_embeddings)\n",
        "lab = kmeans.labels_\n",
        "fig = plt.figure()\n",
        "ax = plt.axes(projection='3d')\n",
        "ax.scatter3D(reduced_sentence_embeddings[:,0], reduced_sentence_embeddings[:,1], reduced_sentence_embeddings[:,2], c = lab)"
      ],
      "execution_count": null,
      "outputs": [
        {
          "output_type": "execute_result",
          "data": {
            "text/plain": [
              "<mpl_toolkits.mplot3d.art3d.Path3DCollection at 0x7fd1409b9790>"
            ]
          },
          "metadata": {
            "tags": []
          },
          "execution_count": 67
        },
        {
          "output_type": "display_data",
          "data": {
            "image/png": "[encoded data removed]",
            "text/plain": [
              "<Figure size 432x288 with 1 Axes>"
            ]
          },
          "metadata": {
            "tags": [],
            "needs_background": "light"
          }
        }
      ]
    },
    {
      "cell_type": "code",
      "metadata": {
        "id": "_4sL7k1xEZMo"
      },
      "source": [
        "# 0 -> violet\n",
        "# 1 -> green\n",
        "# 2 -> yellow"
      ],
      "execution_count": null,
      "outputs": []
    },
    {
      "cell_type": "code",
      "metadata": {
        "colab": {
          "base_uri": "https://localhost:8080/"
        },
        "id": "Y6HDePRxBASf",
        "outputId": "69d8629d-9b66-400d-f87b-a20c4830663d"
      },
      "source": [
        "list(set(np.array(captions_list)[lab==0]))[:10]"
      ],
      "execution_count": null,
      "outputs": [
        {
          "output_type": "execute_result",
          "data": {
            "text/plain": [
              "['the 4 dogs fit on the chair. they are facing right.',\n",
              " 'the dog.',\n",
              " 'the ground is shiny. the skater',\n",
              " 'the clown.',\n",
              " 'A reflective mirror is in the reflective water',\n",
              " 'the big banana is on the ground.',\n",
              " 'a bird is on the pond. the turtle is in the bird. a white bird is a foot to the right of the bird.',\n",
              " 'the ground is black. the ground is shiny.',\n",
              " 'the sofie cow and the gary dog are next to each other. it is cloudy.  the ground is shiny grass.',\n",
              " 'The ground is green. The sky is cloudy. A Klee goat is on the ground.  A red bird is above the goat. The ground is shiny. The ground has a grass texture.']"
            ]
          },
          "metadata": {
            "tags": []
          },
          "execution_count": 81
        }
      ]
    },
    {
      "cell_type": "code",
      "metadata": {
        "colab": {
          "base_uri": "https://localhost:8080/"
        },
        "id": "Zkm69C9MBNY2",
        "outputId": "c4ae69d0-f11b-49d4-b6cd-017057e15725"
      },
      "source": [
        "list(set(np.array(captions_list)[lab==1]))[:10]"
      ],
      "execution_count": null,
      "outputs": [
        {
          "output_type": "execute_result",
          "data": {
            "text/plain": [
              "['the guillotine is on the enormous wood cube. the large brain is -3 foot in front of the guillotine. the brain is 3 feet above the cube. it is cloudy. the huge bird is 9 feet to the left of the cube. it is 19 feet above the grass ground. it is facing the cube. the barn is 45 feet behind the cube. it is morning.',\n",
              " 'the egg is in front of the chicken. the egg is facing right. it is leaning 90 degrees.',\n",
              " 'the penguin is on the shiny white mountain. the sky is cloudy. the ground is shiny sand. the small airplane is 15 feet above the mountain. the plane is behind the penguin. the matisse man is 4 feet in front of the penguin.',\n",
              " 'the 80% reflective grey mountain is 2 feet in the shiny water ground. the mountain is 70 feet wide. the humongous 20% reflective white cat is 20 feet in the mountain. it is cloudy.  the red light is 10 feet in front of the cat. the red light is above the cat.  it is morning.',\n",
              " 'the shiny black sphere is 2.5 feet above the ground. the white canoe is 2 feet in front of the sphere. it is facing left. it is on the ground. the ground is shiny water. the tile wall is behind the sphere. the small man is in the canoe. he is facing right. the huge wall is 5 feet in front of the canoe. the wall is 10 feet tall. the wall has a tile texture. it is cloudy. it is in the ground. the small woman is 6 inches to the right of the man. she is facing backwards. a second house is to the right of the house. it is facing north. a grey house is to the left of the wall. the large white sphere is 5 feet above the boat. it is 1 foot to the left of the boat.  the red light is 1 foot above the woman. the blue light is 2 feet to the right of the red light. the tall house is in front of the wall.',\n",
              " 'It is night. The flying saucer is 10 feet above the ground. The dome of the flying saucer is yellow. The ground is grass. The white light is 20 feet above the flying saucer. The tiny giraffe is on the ground. It has a giraffe image. The giraffe is facing west. The small yellow light is 5 feet above the giraffe. The small yellow light is 2 feet right of the giraffe. The tiny white ash tree is next to the giraffe. The tiny cherry tree is behind the giraffe. The tiny weeping willow tree is behind the giraffe. The huge cone is 2 inches above the giraffe. It is 84 inches tall. It is 3 feet wide. The huge cone is image-5245. The dark orange light is 2 feet left of the giraffe.',\n",
              " 'The ground is green. The ground has a grass texture. The ground is shiny. The sky is cloudy. A Klee goat is on the ground.  A red bird is above the goat. THe bird is one foot to the left of the goat.   The lake is in front of the texture mountain. The tiny tree is -1 foot to the right of the goat. The pink chair is in front of the tree.',\n",
              " 'the emma wall is 4 feet wide. it is on the tall shiny grass mountain. the fun sky. the carpet is 2 feet to the left of the wall. the carpet is 2 feet wide.  the carpet is facing right. the huge white light is in front of the wall. the very small motorcycle is 2 feet to the left of the wall. the motorcycle is facing right. the white light is 3 feet in front of the wall. it is morning.',\n",
              " 'the usmap texture is on the floor. the \"A-mazing food!\" is to the left of the floor. it is facing right. the second \"A-mazing Food!\" is to the right of the floor. it is facing right. the huge basket is on the floor. the ground is water. the small \"bread basket\" is to the right of the basket. it is facing right. it is morning.  the plane is 3 feet above the basket. the plane is 5 feet long. it is facing the \"A-mazing food\".  it is cloudy.',\n",
              " 'the elephant is standing. the elephant is pink. the ground is black. the sky is cloudy.']"
            ]
          },
          "metadata": {
            "tags": []
          },
          "execution_count": 82
        }
      ]
    },
    {
      "cell_type": "code",
      "metadata": {
        "colab": {
          "base_uri": "https://localhost:8080/"
        },
        "id": "GV63AOJ_BpQE",
        "outputId": "41724748-a79a-411c-917a-9c9df38fd47b"
      },
      "source": [
        "list(set(np.array(captions_list)[lab==2]))[:10]"
      ],
      "execution_count": null,
      "outputs": [
        {
          "output_type": "execute_result",
          "data": {
            "text/plain": [
              "['a cat and dog are on the table. they are 2 feet apart.',\n",
              " 'a blue cat is to the left of the sofie cat. the cats are facing left. the judith cat is to the left of the blue cat. it is cloudy.',\n",
              " 'the pencil is on the desk. the ant is on the pencil.',\n",
              " 'the two cats fit on the chair. they are facing right.',\n",
              " 'the horse. the very small camel is on the horse. the cat is on the very small camel. the horse is blue. the very small camel is red. the cat is black. the sky is white. the ground is yello. the illuminator is to the left of the horse. the illuminator is 10 feet away from the horse.',\n",
              " 'the titian cat is 10 inches in front of the mirror. it is facing the mirror. the brown camera is -4 inches behind the cat. it is facing north. it is 8.5 inches above the ground. it is cloudy. it is morning. the blue light is 1 foot to the right of the camera. the red light is in front of the mirror. the bellows of the camera is blue. the lens of the camera is white. the tiny purple fish is 2 inches above the camera. it is facing north. it is -3 inches in front of the camera. the small white cat is 9 inches behind the mirror. it is 6 inches to the left of the mirror.',\n",
              " 'the orange cat is on the chair. the chair is white. the ground has a design texture. the ground is shiny. the huge yellow illuminator is 7 feet above the cat.',\n",
              " 'the tiny easel is on the ground. the small christmas painting is 7 inches in the easel. it is in front of the easel. the cloud texture is on the sky.   the tiny white bird is on the painting.',\n",
              " 'the mouse is 6 inches in front of the large shiny black cube. it is facing the cube. the small heart is above the mouse. the ground is sand. the sky is cloudy.',\n",
              " 'the chipmunk is in the silver bird cage. the leaning pink chipmunk is to the right of the chipmunk. the small bowl is 2 inches to the right of the pink chipmunk. the tiny bug is in the bowl. the tiny tan bug is to the left of the bowl. it is facing left.']"
            ]
          },
          "metadata": {
            "tags": []
          },
          "execution_count": 83
        }
      ]
    },
    {
      "cell_type": "markdown",
      "metadata": {
        "id": "2ifwDEAJE3GX"
      },
      "source": [
        "1. Relative complexity and the length of the sentence -> there is no exlicit length information in the embeddings, but it is interesting that it is being captured by the embedings\n",
        "2. Differene in the relative position informtion -> second one has more numbers, i.e. the relative positions are in terms of numbers, they are more exact. while the third one has comparitively more abstract information and is more in terms of left, right etc. \n",
        "3. Number of objects -> 0 category has less number of objects (2-3) whereas the 1 and 2 category have more.\n",
        "4. There is no difference in the types of objects - for examples, animals are everywhere. "
      ]
    },
    {
      "cell_type": "code",
      "metadata": {
        "id": "RKbreAIyGtbp"
      },
      "source": [
        ""
      ],
      "execution_count": null,
      "outputs": []
    },
    {
      "cell_type": "code",
      "metadata": {
        "id": "15zFgQwSGtu9"
      },
      "source": [
        "import nltk\n",
        "nltk.download('punkt')\n",
        "nltk.download('averaged_perceptron_tagger')\n",
        "\n",
        "\n",
        "is_noun = lambda pos: pos[:2] == 'NN'\n",
        "def nounCount(caption):\n",
        "  tokenized = nltk.word_tokenize(caption)\n",
        "  nouns = [word for (word, pos) in nltk.pos_tag(tokenized) if is_noun(pos)] \n",
        "  return len(nouns)\n",
        "\n",
        "def uniqueNounCount(caption):\n",
        "  tokenized = nltk.word_tokenize(caption)\n",
        "  nouns = [word for (word, pos) in nltk.pos_tag(tokenized) if is_noun(pos)] \n",
        "  return len(set(nouns))\n",
        "\n",
        "\n",
        "is_adjective = lambda pos: pos[:2] == 'JJ'\n",
        "def adjectiveCount(caption):\n",
        "  tokenized = nltk.word_tokenize(caption)\n",
        "  nouns = [word for (word, pos) in nltk.pos_tag(tokenized) if is_adjective(pos)] \n",
        "  return len(nouns)\n",
        "\n",
        "def uniqueAdjectiveCount(caption):\n",
        "  tokenized = nltk.word_tokenize(caption)\n",
        "  nouns = [word for (word, pos) in nltk.pos_tag(tokenized) if is_adjective(pos)] \n",
        "  return len(set(nouns))\n",
        "\n",
        "\n",
        "is_number = lambda pos: pos[:2] == 'CD'\n",
        "def numberCount(caption):\n",
        "  tokenized = nltk.word_tokenize(caption.replace(\"-\", \"\"))\n",
        "  nouns = [word for (word, pos) in nltk.pos_tag(tokenized) if is_number(pos)] \n",
        "  return len(nouns)"
      ],
      "execution_count": null,
      "outputs": []
    },
    {
      "cell_type": "code",
      "metadata": {
        "id": "KeHWN9LELL2A"
      },
      "source": [
        "def getMetricLists(lab, f):\n",
        "  ret = []\n",
        "  for i in range(3):\n",
        "    l = [f(x) for x in list(set(np.array(captions_list)[lab==i]))]\n",
        "    ret.append(l)\n",
        "  return ret"
      ],
      "execution_count": null,
      "outputs": []
    },
    {
      "cell_type": "code",
      "metadata": {
        "colab": {
          "base_uri": "https://localhost:8080/",
          "height": 523
        },
        "id": "2Bbe2f9sMHdl",
        "outputId": "0a92c16c-7e33-4001-c0c2-5c25e4db99a5"
      },
      "source": [
        "a = getMetricLists(lab, len)\n",
        "plt.hist([a[0], a[1], a[2]], color = ['b', 'g', 'r'], density = True)"
      ],
      "execution_count": null,
      "outputs": [
        {
          "output_type": "stream",
          "text": [
            "/usr/local/lib/python3.7/dist-packages/numpy/core/_asarray.py:83: VisibleDeprecationWarning: Creating an ndarray from ragged nested sequences (which is a list-or-tuple of lists-or-tuples-or ndarrays with different lengths or shapes) is deprecated. If you meant to do this, you must specify 'dtype=object' when creating the ndarray\n",
            "  return array(a, dtype, copy=False, order=order)\n"
          ],
          "name": "stderr"
        },
        {
          "output_type": "execute_result",
          "data": {
            "text/plain": [
              "(array([[8.06228947e-03, 1.54619250e-03, 3.31326964e-04, 1.10442321e-04,\n",
              "         0.00000000e+00, 0.00000000e+00, 0.00000000e+00, 0.00000000e+00,\n",
              "         0.00000000e+00, 0.00000000e+00],\n",
              "        [5.53492098e-04, 1.71873862e-03, 2.73832933e-03, 2.38875537e-03,\n",
              "         9.61328381e-04, 8.15672566e-04, 4.36967446e-04, 1.45655815e-04,\n",
              "         2.03918141e-04, 8.73934892e-05],\n",
              "        [3.92587940e-03, 2.43404523e-03, 1.96293970e-03, 7.06658291e-04,\n",
              "         3.14070352e-04, 3.92587940e-04, 3.14070352e-04, 0.00000000e+00,\n",
              "         0.00000000e+00, 0.00000000e+00]]),\n",
              " array([  3. , 102.5, 202. , 301.5, 401. , 500.5, 600. , 699.5, 799. ,\n",
              "        898.5, 998. ]),\n",
              " <a list of 3 Lists of Patches objects>)"
            ]
          },
          "metadata": {
            "tags": []
          },
          "execution_count": 134
        },
        {
          "output_type": "display_data",
          "data": {
            "image/png": "[encoded data removed]",
            "text/plain": [
              "<Figure size 432x288 with 1 Axes>"
            ]
          },
          "metadata": {
            "tags": [],
            "needs_background": "light"
          }
        }
      ]
    },
    {
      "cell_type": "code",
      "metadata": {
        "colab": {
          "base_uri": "https://localhost:8080/",
          "height": 455
        },
        "id": "KbRe1mHfMTkI",
        "outputId": "d03d0e6c-471a-410c-d971-57709c662aac"
      },
      "source": [
        "a = getMetricLists(lab, nounCount)\n",
        "plt.hist([a[0], a[1], a[2]], color = ['b', 'g', 'r'], density = True)"
      ],
      "execution_count": null,
      "outputs": [
        {
          "output_type": "stream",
          "text": [
            "/usr/local/lib/python3.7/dist-packages/numpy/core/_asarray.py:83: VisibleDeprecationWarning: Creating an ndarray from ragged nested sequences (which is a list-or-tuple of lists-or-tuples-or ndarrays with different lengths or shapes) is deprecated. If you meant to do this, you must specify 'dtype=object' when creating the ndarray\n",
            "  return array(a, dtype, copy=False, order=order)\n"
          ],
          "name": "stderr"
        },
        {
          "output_type": "execute_result",
          "data": {
            "text/plain": [
              "(array([[0.12877747, 0.02232143, 0.00343407, 0.00171703, 0.        ,\n",
              "         0.        , 0.        , 0.        , 0.        , 0.        ],\n",
              "        [0.01222826, 0.02943841, 0.03623188, 0.0321558 , 0.02083333,\n",
              "         0.00996377, 0.00724638, 0.00407609, 0.0013587 , 0.00271739],\n",
              "        [0.05981445, 0.0402832 , 0.03051758, 0.00732422, 0.00610352,\n",
              "         0.00610352, 0.00488281, 0.0012207 , 0.        , 0.        ]]),\n",
              " array([ 1. ,  7.4, 13.8, 20.2, 26.6, 33. , 39.4, 45.8, 52.2, 58.6, 65. ]),\n",
              " <a list of 3 Lists of Patches objects>)"
            ]
          },
          "metadata": {
            "tags": []
          },
          "execution_count": 140
        },
        {
          "output_type": "display_data",
          "data": {
            "image/png": "[encoded data removed]",
            "text/plain": [
              "<Figure size 432x288 with 1 Axes>"
            ]
          },
          "metadata": {
            "tags": [],
            "needs_background": "light"
          }
        }
      ]
    },
    {
      "cell_type": "code",
      "metadata": {
        "colab": {
          "base_uri": "https://localhost:8080/",
          "height": 455
        },
        "id": "i2CU27CBMiOK",
        "outputId": "f12b549e-7911-4773-dcb2-cd207c3cae95"
      },
      "source": [
        "a = getMetricLists(lab, uniqueNounCount)\n",
        "plt.hist([a[0], a[1], a[2]], color = ['b', 'g', 'r'], density = True)"
      ],
      "execution_count": null,
      "outputs": [
        {
          "output_type": "stream",
          "text": [
            "/usr/local/lib/python3.7/dist-packages/numpy/core/_asarray.py:83: VisibleDeprecationWarning: Creating an ndarray from ragged nested sequences (which is a list-or-tuple of lists-or-tuples-or ndarrays with different lengths or shapes) is deprecated. If you meant to do this, you must specify 'dtype=object' when creating the ndarray\n",
            "  return array(a, dtype, copy=False, order=order)\n"
          ],
          "name": "stderr"
        },
        {
          "output_type": "execute_result",
          "data": {
            "text/plain": [
              "(array([[0.25322504, 0.10511228, 0.04300048, 0.02866699, 0.00477783,\n",
              "         0.        , 0.        , 0.        , 0.        , 0.        ],\n",
              "        [0.00504096, 0.02394455, 0.05166982, 0.10081916, 0.07813485,\n",
              "         0.05166982, 0.06805293, 0.04410838, 0.0063012 , 0.00504096],\n",
              "        [0.09850543, 0.06453804, 0.04415761, 0.10190217, 0.05095109,\n",
              "         0.03396739, 0.02038043, 0.01019022, 0.00679348, 0.00339674]]),\n",
              " array([ 1. ,  3.3,  5.6,  7.9, 10.2, 12.5, 14.8, 17.1, 19.4, 21.7, 24. ]),\n",
              " <a list of 3 Lists of Patches objects>)"
            ]
          },
          "metadata": {
            "tags": []
          },
          "execution_count": 141
        },
        {
          "output_type": "display_data",
          "data": {
            "image/png": "[encoded data removed]",
            "text/plain": [
              "<Figure size 432x288 with 1 Axes>"
            ]
          },
          "metadata": {
            "tags": [],
            "needs_background": "light"
          }
        }
      ]
    },
    {
      "cell_type": "code",
      "metadata": {
        "colab": {
          "base_uri": "https://localhost:8080/",
          "height": 455
        },
        "id": "FaWbRez8MoZe",
        "outputId": "6f0b0d05-395d-4d52-8f63-175a36ec04fa"
      },
      "source": [
        "a = getMetricLists(lab, uniqueAdjectiveCount)\n",
        "plt.hist([a[0], a[1], a[2]], color = ['b', 'g', 'r'], density = True)"
      ],
      "execution_count": null,
      "outputs": [
        {
          "output_type": "stream",
          "text": [
            "/usr/local/lib/python3.7/dist-packages/numpy/core/_asarray.py:83: VisibleDeprecationWarning: Creating an ndarray from ragged nested sequences (which is a list-or-tuple of lists-or-tuples-or ndarrays with different lengths or shapes) is deprecated. If you meant to do this, you must specify 'dtype=object' when creating the ndarray\n",
            "  return array(a, dtype, copy=False, order=order)\n"
          ],
          "name": "stderr"
        },
        {
          "output_type": "execute_result",
          "data": {
            "text/plain": [
              "(array([[0.51020408, 0.07849294, 0.10989011, 0.01569859, 0.        ,\n",
              "         0.        , 0.        , 0.        , 0.        , 0.        ],\n",
              "        [0.04554865, 0.08695652, 0.21118012, 0.10973085, 0.0931677 ,\n",
              "         0.12215321, 0.02070393, 0.01035197, 0.00414079, 0.01035197],\n",
              "        [0.20647321, 0.13950893, 0.17857143, 0.09486607, 0.02232143,\n",
              "         0.04464286, 0.        , 0.02790179, 0.        , 0.        ]]),\n",
              " array([ 0. ,  1.4,  2.8,  4.2,  5.6,  7. ,  8.4,  9.8, 11.2, 12.6, 14. ]),\n",
              " <a list of 3 Lists of Patches objects>)"
            ]
          },
          "metadata": {
            "tags": []
          },
          "execution_count": 147
        },
        {
          "output_type": "display_data",
          "data": {
            "image/png": "[encoded data removed]",
            "text/plain": [
              "<Figure size 432x288 with 1 Axes>"
            ]
          },
          "metadata": {
            "tags": [],
            "needs_background": "light"
          }
        }
      ]
    },
    {
      "cell_type": "code",
      "metadata": {
        "colab": {
          "base_uri": "https://localhost:8080/",
          "height": 455
        },
        "id": "DDqVXyO2MpZZ",
        "outputId": "d419e09c-7193-472f-db66-e6297a1f4382"
      },
      "source": [
        "a = getMetricLists(lab, numberCount)\n",
        "plt.hist([a[0], a[1], a[2]], color = ['b', 'g', 'r'], density = True)"
      ],
      "execution_count": null,
      "outputs": [
        {
          "output_type": "stream",
          "text": [
            "/usr/local/lib/python3.7/dist-packages/numpy/core/_asarray.py:83: VisibleDeprecationWarning: Creating an ndarray from ragged nested sequences (which is a list-or-tuple of lists-or-tuples-or ndarrays with different lengths or shapes) is deprecated. If you meant to do this, you must specify 'dtype=object' when creating the ndarray\n",
            "  return array(a, dtype, copy=False, order=order)\n"
          ],
          "name": "stderr"
        },
        {
          "output_type": "execute_result",
          "data": {
            "text/plain": [
              "(array([[0.61538462, 0.02930403, 0.02197802, 0.        , 0.        ,\n",
              "         0.        , 0.        , 0.        , 0.        , 0.        ],\n",
              "        [0.17198068, 0.11980676, 0.19516908, 0.07149758, 0.05990338,\n",
              "         0.0173913 , 0.01545894, 0.        , 0.0057971 , 0.00966184],\n",
              "        [0.46354167, 0.09375   , 0.06770833, 0.01041667, 0.02083333,\n",
              "         0.01041667, 0.        , 0.        , 0.        , 0.        ]]),\n",
              " array([ 0. ,  1.5,  3. ,  4.5,  6. ,  7.5,  9. , 10.5, 12. , 13.5, 15. ]),\n",
              " <a list of 3 Lists of Patches objects>)"
            ]
          },
          "metadata": {
            "tags": []
          },
          "execution_count": 157
        },
        {
          "output_type": "display_data",
          "data": {
            "image/png": "[encoded data removed]",
            "text/plain": [
              "<Figure size 432x288 with 1 Axes>"
            ]
          },
          "metadata": {
            "tags": [],
            "needs_background": "light"
          }
        }
      ]
    },
    {
      "cell_type": "code",
      "metadata": {
        "colab": {
          "base_uri": "https://localhost:8080/",
          "height": 421
        },
        "id": "5gzeYawLKBIe",
        "outputId": "e2206f25-e923-478c-ff44-16f9cc3ad411"
      },
      "source": [
        "plt.hist([zero_list, one_list, two_list], color = ['b', 'g', 'r'])"
      ],
      "execution_count": null,
      "outputs": [
        {
          "output_type": "stream",
          "text": [
            "/usr/local/lib/python3.7/dist-packages/numpy/core/_asarray.py:83: VisibleDeprecationWarning: Creating an ndarray from ragged nested sequences (which is a list-or-tuple of lists-or-tuples-or ndarrays with different lengths or shapes) is deprecated. If you meant to do this, you must specify 'dtype=object' when creating the ndarray\n",
            "  return array(a, dtype, copy=False, order=order)\n"
          ],
          "name": "stderr"
        },
        {
          "output_type": "execute_result",
          "data": {
            "text/plain": [
              "(array([[73., 14.,  3.,  1.,  0.,  0.,  0.,  0.,  0.,  0.],\n",
              "        [19., 59., 94., 82., 33., 28., 15.,  5.,  7.,  3.],\n",
              "        [50., 31., 25.,  9.,  4.,  5.,  4.,  0.,  0.,  0.]]),\n",
              " array([  3. , 102.5, 202. , 301.5, 401. , 500.5, 600. , 699.5, 799. ,\n",
              "        898.5, 998. ]),\n",
              " <a list of 3 Lists of Patches objects>)"
            ]
          },
          "metadata": {
            "tags": []
          },
          "execution_count": 118
        },
        {
          "output_type": "display_data",
          "data": {
            "image/png": "[encoded data removed]",
            "text/plain": [
              "<Figure size 432x288 with 1 Axes>"
            ]
          },
          "metadata": {
            "tags": [],
            "needs_background": "light"
          }
        }
      ]
    },
    {
      "cell_type": "code",
      "metadata": {
        "colab": {
          "base_uri": "https://localhost:8080/",
          "height": 523
        },
        "id": "ixtvAxNwK9yt",
        "outputId": "8869c03f-914d-4b37-857a-276976e73c8b"
      },
      "source": [
        "# plt.hist([zero_list, one_list, two_list], color = ['b', 'g', 'r'], density = True)"
      ],
      "execution_count": null,
      "outputs": [
        {
          "output_type": "stream",
          "text": [
            "/usr/local/lib/python3.7/dist-packages/numpy/core/_asarray.py:83: VisibleDeprecationWarning: Creating an ndarray from ragged nested sequences (which is a list-or-tuple of lists-or-tuples-or ndarrays with different lengths or shapes) is deprecated. If you meant to do this, you must specify 'dtype=object' when creating the ndarray\n",
            "  return array(a, dtype, copy=False, order=order)\n"
          ],
          "name": "stderr"
        },
        {
          "output_type": "execute_result",
          "data": {
            "text/plain": [
              "(array([[8.06228947e-03, 1.54619250e-03, 3.31326964e-04, 1.10442321e-04,\n",
              "         0.00000000e+00, 0.00000000e+00, 0.00000000e+00, 0.00000000e+00,\n",
              "         0.00000000e+00, 0.00000000e+00],\n",
              "        [5.53492098e-04, 1.71873862e-03, 2.73832933e-03, 2.38875537e-03,\n",
              "         9.61328381e-04, 8.15672566e-04, 4.36967446e-04, 1.45655815e-04,\n",
              "         2.03918141e-04, 8.73934892e-05],\n",
              "        [3.92587940e-03, 2.43404523e-03, 1.96293970e-03, 7.06658291e-04,\n",
              "         3.14070352e-04, 3.92587940e-04, 3.14070352e-04, 0.00000000e+00,\n",
              "         0.00000000e+00, 0.00000000e+00]]),\n",
              " array([  3. , 102.5, 202. , 301.5, 401. , 500.5, 600. , 699.5, 799. ,\n",
              "        898.5, 998. ]),\n",
              " <a list of 3 Lists of Patches objects>)"
            ]
          },
          "metadata": {
            "tags": []
          },
          "execution_count": 120
        },
        {
          "output_type": "display_data",
          "data": {
            "image/png": "[encoded data removed]",
            "text/plain": [
              "<Figure size 432x288 with 1 Axes>"
            ]
          },
          "metadata": {
            "tags": [],
            "needs_background": "light"
          }
        }
      ]
    }
  ]
}